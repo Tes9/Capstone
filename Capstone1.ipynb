{
 "cells": [
  {
   "cell_type": "code",
   "execution_count": 64,
   "metadata": {},
   "outputs": [],
   "source": [
    "import pandas as pd\n",
    "import numpy as np\n",
    "import seaborn as sns\n",
    "import matplotlib.pyplot as plt"
   ]
  },
  {
   "cell_type": "code",
   "execution_count": null,
   "metadata": {},
   "outputs": [],
   "source": [
    "#https://data.cityofchicago.org/Public-Safety/Crimes-2001-to-present/ijzp-q8t2, data source."
   ]
  },
  {
   "cell_type": "code",
   "execution_count": 65,
   "metadata": {},
   "outputs": [],
   "source": [
    "crime_data='Crimes_-_2001_to_present.csv'"
   ]
  },
  {
   "cell_type": "code",
   "execution_count": 66,
   "metadata": {},
   "outputs": [],
   "source": [
    "df=pd.read_csv(crime_data)"
   ]
  },
  {
   "cell_type": "code",
   "execution_count": 67,
   "metadata": {},
   "outputs": [
    {
     "data": {
      "text/plain": [
       "<matplotlib.axes._subplots.AxesSubplot at 0x1aad797c7b8>"
      ]
     },
     "execution_count": 67,
     "metadata": {},
     "output_type": "execute_result"
    },
    {
     "data": {
      "image/png": "[encoded data removed]",
      "text/plain": [
       "<matplotlib.figure.Figure at 0x1aa83a78f98>"
      ]
     },
     "metadata": {},
     "output_type": "display_data"
    }
   ],
   "source": [
    "df['Year'].value_counts().plot(kind='bar', figsize=(12,9))# this is just to see the crime rate over time/year"
   ]
  },
  {
   "cell_type": "code",
   "execution_count": 68,
   "metadata": {},
   "outputs": [
    {
     "data": {
      "text/plain": [
       "<matplotlib.axes._subplots.AxesSubplot at 0x1a9d4e2f198>"
      ]
     },
     "execution_count": 68,
     "metadata": {},
     "output_type": "execute_result"
    },
    {
     "data": {
      "image/png": "[encoded data removed]",
      "text/plain": [
       "<matplotlib.figure.Figure at 0x1aacd73cd68>"
      ]
     },
     "metadata": {},
     "output_type": "display_data"
    }
   ],
   "source": [
    "df.groupby('Year').size().plot(kind='bar', figsize=(12,9))"
   ]
  },
  {
   "cell_type": "code",
   "execution_count": 70,
   "metadata": {},
   "outputs": [
    {
     "data": {
      "text/plain": [
       "Index(['ID', 'Case Number', 'Date', 'Block', 'IUCR', 'Primary Type',\n",
       "       'Description', 'Location Description', 'Arrest', 'Domestic', 'Beat',\n",
       "       'District', 'Ward', 'Community Area', 'FBI Code', 'X Coordinate',\n",
       "       'Y Coordinate', 'Year', 'Updated On', 'Latitude', 'Longitude',\n",
       "       'Location'],\n",
       "      dtype='object')"
      ]
     },
     "execution_count": 70,
     "metadata": {},
     "output_type": "execute_result"
    }
   ],
   "source": [
    "df.columns"
   ]
  },
  {
   "cell_type": "code",
   "execution_count": 71,
   "metadata": {},
   "outputs": [
    {
     "data": {
      "text/plain": [
       "SIMPLE                                          791736\n",
       "$500 AND UNDER                                  543152\n",
       "DOMESTIC BATTERY SIMPLE                         513734\n",
       "TO VEHICLE                                      372672\n",
       "TO PROPERTY                                     352985\n",
       "OVER $500                                       345840\n",
       "POSS: CANNABIS 30GMS OR LESS                    276386\n",
       "FORCIBLE ENTRY                                  261988\n",
       "AUTOMOBILE                                      244921\n",
       "FROM BUILDING                                   225154\n",
       "RETAIL THEFT                                    165688\n",
       "TELEPHONE THREAT                                134001\n",
       "TO LAND                                         119143\n",
       "POSS: CRACK                                     118929\n",
       "UNLAWFUL ENTRY                                  102240\n",
       "HARASSMENT BY TELEPHONE                         100018\n",
       "AGGRAVATED: OTHER DANG WEAPON                    92857\n",
       "POSS: HEROIN(WHITE)                              91640\n",
       "ARMED: HANDGUN                                   90016\n",
       "STRONGARM - NO WEAPON                            88239\n",
       "AGGRAVATED: HANDGUN                              83321\n",
       "AGGRAVATED:KNIFE/CUTTING INSTR                   56230\n",
       "CREDIT CARD FRAUD                                52242\n",
       "SOLICIT ON PUBLIC WAY                            47175\n",
       "UNLAWFUL POSS OF HANDGUN                         46546\n",
       "FINANCIAL ID THEFT: OVER $300                    44531\n",
       "TO STATE SUP LAND                                36203\n",
       "OTHER VEHICLE OFFENSE                            36078\n",
       "CRIMINAL DEFACEMENT                              33437\n",
       "VIOLATE ORDER OF PROTECTION                      33241\n",
       "                                                 ...  \n",
       "CONTRABAND IN PRISON                                 6\n",
       "ALTER COINS                                          6\n",
       "LOTTERY/OTHER                                        6\n",
       "FAIL REGISTER LIC:CONT SUBS                          5\n",
       "REGISTER OF SALES BY DEALER                          5\n",
       "AGG RITUAL MUT:KNIFE/CUTTING I                       5\n",
       "AGG RIT MUT: HANDS/FIST/FEET SERIOUS INJURY          5\n",
       "VIOLATION OF SUMMARY CLOSURE                         5\n",
       "AGG RITUAL MUT:HANDGUN                               5\n",
       "CONCEALED CARRY LICENSE REVOCATION                   5\n",
       "AGG RITUAL MUT:OTH DANG WEAPON                       5\n",
       "POLICY/OTHER                                         4\n",
       "ARSONIST: DUTY TO REGISTER                           4\n",
       "USE OF METAL PIERCING BULLETS                        4\n",
       "FOUND PASSPORT                                       4\n",
       "INVOLUNTARY MANSLAUGHTER                             3\n",
       "ATTEMPT AGG: OTHER FIREARM                           3\n",
       "INTIMIDATION OF LAW ENFORCEMENT OFFICIAL             3\n",
       "AGG RIT MUT: HANDS/FIST/FEET NO/MINOR INJURY         3\n",
       "ARSONIST: FAIL TO REGISTER NEW ADDRESS               3\n",
       "GUN OFFENDER NOTIFICATION-NO CONTACT                 3\n",
       "MARRYING A BIGAMIST                                  2\n",
       "REGISTER FED GAMBLING STAMP                          2\n",
       "NATIONAL LOTTERY                                     2\n",
       "KEEP PLACE OF JUV PROSTITUTION                       1\n",
       "DOMESTIC VIOLENCE                                    1\n",
       "THEFT RETAIL                                         1\n",
       "SPORTS TAMPERING                                     1\n",
       "LOTTERY/PARI-MUTUEL                                  1\n",
       "DISCLOSE DV VICTIM LOCATION                          1\n",
       "Name: Description, Length: 379, dtype: int64"
      ]
     },
     "execution_count": 71,
     "metadata": {},
     "output_type": "execute_result"
    }
   ],
   "source": [
    "df['Description'].value_counts()\n"
   ]
  },
  {
   "cell_type": "code",
   "execution_count": 72,
   "metadata": {},
   "outputs": [
    {
     "data": {
      "text/plain": [
       "2002    486752\n",
       "2001    485745\n",
       "2003    475934\n",
       "2004    469379\n",
       "2005    453703\n",
       "2006    448093\n",
       "2007    436993\n",
       "2008    427030\n",
       "2009    392656\n",
       "2010    370283\n",
       "2011    351735\n",
       "2012    335909\n",
       "2013    306995\n",
       "2014    275154\n",
       "2016    268725\n",
       "2017    267635\n",
       "2015    263865\n",
       "2018    189873\n",
       "Name: Year, dtype: int64"
      ]
     },
     "execution_count": 72,
     "metadata": {},
     "output_type": "execute_result"
    }
   ],
   "source": [
    "df['Year'].value_counts()"
   ]
  },
  {
   "cell_type": "code",
   "execution_count": 73,
   "metadata": {},
   "outputs": [
    {
     "data": {
      "text/plain": [
       "ID                        int64\n",
       "Case Number              object\n",
       "Date                     object\n",
       "Block                    object\n",
       "IUCR                     object\n",
       "Primary Type             object\n",
       "Description              object\n",
       "Location Description     object\n",
       "Arrest                     bool\n",
       "Domestic                   bool\n",
       "Beat                      int64\n",
       "District                float64\n",
       "Ward                    float64\n",
       "Community Area          float64\n",
       "FBI Code                 object\n",
       "X Coordinate            float64\n",
       "Y Coordinate            float64\n",
       "Year                      int64\n",
       "Updated On               object\n",
       "Latitude                float64\n",
       "Longitude               float64\n",
       "Location                 object\n",
       "dtype: object"
      ]
     },
     "execution_count": 73,
     "metadata": {},
     "output_type": "execute_result"
    }
   ],
   "source": [
    "df.dtypes"
   ]
  },
  {
   "cell_type": "code",
   "execution_count": 74,
   "metadata": {},
   "outputs": [
    {
     "data": {
      "text/html": [
       "<div>\n",
       "<style scoped>\n",
       "    .dataframe tbody tr th:only-of-type {\n",
       "        vertical-align: middle;\n",
       "    }\n",
       "\n",
       "    .dataframe tbody tr th {\n",
       "        vertical-align: top;\n",
       "    }\n",
       "\n",
       "    .dataframe thead th {\n",
       "        text-align: right;\n",
       "    }\n",
       "</style>\n",
       "<table border=\"1\" class=\"dataframe\">\n",
       "  <thead>\n",
       "    <tr style=\"text-align: right;\">\n",
       "      <th></th>\n",
       "      <th>Date</th>\n",
       "      <th>Year</th>\n",
       "      <th>Updated On</th>\n",
       "    </tr>\n",
       "  </thead>\n",
       "  <tbody>\n",
       "    <tr>\n",
       "      <th>0</th>\n",
       "      <td>03/18/2015 07:44:00 PM</td>\n",
       "      <td>2015</td>\n",
       "      <td>02/10/2018 03:50:01 PM</td>\n",
       "    </tr>\n",
       "    <tr>\n",
       "      <th>1</th>\n",
       "      <td>03/18/2015 11:00:00 PM</td>\n",
       "      <td>2015</td>\n",
       "      <td>02/10/2018 03:50:01 PM</td>\n",
       "    </tr>\n",
       "    <tr>\n",
       "      <th>2</th>\n",
       "      <td>03/18/2015 10:45:00 PM</td>\n",
       "      <td>2015</td>\n",
       "      <td>02/10/2018 03:50:01 PM</td>\n",
       "    </tr>\n",
       "    <tr>\n",
       "      <th>3</th>\n",
       "      <td>03/18/2015 10:30:00 PM</td>\n",
       "      <td>2015</td>\n",
       "      <td>02/10/2018 03:50:01 PM</td>\n",
       "    </tr>\n",
       "    <tr>\n",
       "      <th>4</th>\n",
       "      <td>03/18/2015 09:00:00 PM</td>\n",
       "      <td>2015</td>\n",
       "      <td>02/10/2018 03:50:01 PM</td>\n",
       "    </tr>\n",
       "    <tr>\n",
       "      <th>5</th>\n",
       "      <td>03/18/2015 10:00:00 PM</td>\n",
       "      <td>2015</td>\n",
       "      <td>02/10/2018 03:50:01 PM</td>\n",
       "    </tr>\n",
       "    <tr>\n",
       "      <th>6</th>\n",
       "      <td>03/18/2015 11:00:00 PM</td>\n",
       "      <td>2015</td>\n",
       "      <td>02/10/2018 03:50:01 PM</td>\n",
       "    </tr>\n",
       "    <tr>\n",
       "      <th>7</th>\n",
       "      <td>03/18/2015 09:35:00 PM</td>\n",
       "      <td>2015</td>\n",
       "      <td>02/10/2018 03:50:01 PM</td>\n",
       "    </tr>\n",
       "    <tr>\n",
       "      <th>8</th>\n",
       "      <td>03/18/2015 10:09:00 PM</td>\n",
       "      <td>2015</td>\n",
       "      <td>02/10/2018 03:50:01 PM</td>\n",
       "    </tr>\n",
       "    <tr>\n",
       "      <th>9</th>\n",
       "      <td>03/18/2015 09:25:00 PM</td>\n",
       "      <td>2015</td>\n",
       "      <td>02/10/2018 03:50:01 PM</td>\n",
       "    </tr>\n",
       "    <tr>\n",
       "      <th>10</th>\n",
       "      <td>03/18/2015 09:30:00 PM</td>\n",
       "      <td>2015</td>\n",
       "      <td>02/10/2018 03:50:01 PM</td>\n",
       "    </tr>\n",
       "    <tr>\n",
       "      <th>11</th>\n",
       "      <td>03/15/2015 04:10:00 PM</td>\n",
       "      <td>2015</td>\n",
       "      <td>02/10/2018 03:50:01 PM</td>\n",
       "    </tr>\n",
       "    <tr>\n",
       "      <th>12</th>\n",
       "      <td>03/18/2015 09:14:00 PM</td>\n",
       "      <td>2015</td>\n",
       "      <td>02/10/2018 03:50:01 PM</td>\n",
       "    </tr>\n",
       "    <tr>\n",
       "      <th>13</th>\n",
       "      <td>03/18/2015 10:50:00 PM</td>\n",
       "      <td>2015</td>\n",
       "      <td>02/10/2018 03:50:01 PM</td>\n",
       "    </tr>\n",
       "    <tr>\n",
       "      <th>14</th>\n",
       "      <td>03/18/2015 10:31:00 PM</td>\n",
       "      <td>2015</td>\n",
       "      <td>02/10/2018 03:50:01 PM</td>\n",
       "    </tr>\n",
       "    <tr>\n",
       "      <th>15</th>\n",
       "      <td>03/18/2015 12:55:00 PM</td>\n",
       "      <td>2015</td>\n",
       "      <td>02/10/2018 03:50:01 PM</td>\n",
       "    </tr>\n",
       "    <tr>\n",
       "      <th>16</th>\n",
       "      <td>03/18/2015 08:00:00 PM</td>\n",
       "      <td>2015</td>\n",
       "      <td>02/10/2018 03:50:01 PM</td>\n",
       "    </tr>\n",
       "    <tr>\n",
       "      <th>17</th>\n",
       "      <td>03/18/2015 09:00:00 PM</td>\n",
       "      <td>2015</td>\n",
       "      <td>02/10/2018 03:50:01 PM</td>\n",
       "    </tr>\n",
       "    <tr>\n",
       "      <th>18</th>\n",
       "      <td>03/18/2015 10:56:00 PM</td>\n",
       "      <td>2015</td>\n",
       "      <td>02/10/2018 03:50:01 PM</td>\n",
       "    </tr>\n",
       "    <tr>\n",
       "      <th>19</th>\n",
       "      <td>03/18/2015 10:45:00 PM</td>\n",
       "      <td>2015</td>\n",
       "      <td>02/10/2018 03:50:01 PM</td>\n",
       "    </tr>\n",
       "    <tr>\n",
       "      <th>20</th>\n",
       "      <td>03/18/2015 10:00:00 PM</td>\n",
       "      <td>2015</td>\n",
       "      <td>02/10/2018 03:50:01 PM</td>\n",
       "    </tr>\n",
       "    <tr>\n",
       "      <th>21</th>\n",
       "      <td>09/01/2014 08:00:00 AM</td>\n",
       "      <td>2014</td>\n",
       "      <td>03/01/2018 03:52:35 PM</td>\n",
       "    </tr>\n",
       "    <tr>\n",
       "      <th>22</th>\n",
       "      <td>03/18/2015 11:55:00 PM</td>\n",
       "      <td>2015</td>\n",
       "      <td>02/10/2018 03:50:01 PM</td>\n",
       "    </tr>\n",
       "    <tr>\n",
       "      <th>23</th>\n",
       "      <td>03/18/2015 11:40:00 PM</td>\n",
       "      <td>2015</td>\n",
       "      <td>02/10/2018 03:50:01 PM</td>\n",
       "    </tr>\n",
       "    <tr>\n",
       "      <th>24</th>\n",
       "      <td>03/18/2015 09:44:00 PM</td>\n",
       "      <td>2015</td>\n",
       "      <td>02/10/2018 03:50:01 PM</td>\n",
       "    </tr>\n",
       "    <tr>\n",
       "      <th>25</th>\n",
       "      <td>03/18/2015 11:30:00 PM</td>\n",
       "      <td>2015</td>\n",
       "      <td>02/10/2018 03:50:01 PM</td>\n",
       "    </tr>\n",
       "    <tr>\n",
       "      <th>26</th>\n",
       "      <td>03/18/2015 10:45:00 PM</td>\n",
       "      <td>2015</td>\n",
       "      <td>02/10/2018 03:50:01 PM</td>\n",
       "    </tr>\n",
       "    <tr>\n",
       "      <th>27</th>\n",
       "      <td>03/18/2015 10:33:00 PM</td>\n",
       "      <td>2015</td>\n",
       "      <td>02/10/2018 03:50:01 PM</td>\n",
       "    </tr>\n",
       "    <tr>\n",
       "      <th>28</th>\n",
       "      <td>03/19/2015 01:20:00 AM</td>\n",
       "      <td>2015</td>\n",
       "      <td>02/10/2018 03:50:01 PM</td>\n",
       "    </tr>\n",
       "    <tr>\n",
       "      <th>29</th>\n",
       "      <td>03/18/2015 09:59:00 PM</td>\n",
       "      <td>2015</td>\n",
       "      <td>02/10/2018 03:50:01 PM</td>\n",
       "    </tr>\n",
       "    <tr>\n",
       "      <th>...</th>\n",
       "      <td>...</td>\n",
       "      <td>...</td>\n",
       "      <td>...</td>\n",
       "    </tr>\n",
       "    <tr>\n",
       "      <th>6706429</th>\n",
       "      <td>12/19/2016 12:00:00 PM</td>\n",
       "      <td>2016</td>\n",
       "      <td>09/25/2018 04:14:11 PM</td>\n",
       "    </tr>\n",
       "    <tr>\n",
       "      <th>6706430</th>\n",
       "      <td>01/01/2018 12:01:00 AM</td>\n",
       "      <td>2018</td>\n",
       "      <td>09/25/2018 04:14:11 PM</td>\n",
       "    </tr>\n",
       "    <tr>\n",
       "      <th>6706431</th>\n",
       "      <td>08/01/2018 12:01:00 AM</td>\n",
       "      <td>2018</td>\n",
       "      <td>09/25/2018 04:14:11 PM</td>\n",
       "    </tr>\n",
       "    <tr>\n",
       "      <th>6706432</th>\n",
       "      <td>09/01/2016 12:01:00 AM</td>\n",
       "      <td>2016</td>\n",
       "      <td>09/25/2018 04:14:11 PM</td>\n",
       "    </tr>\n",
       "    <tr>\n",
       "      <th>6706433</th>\n",
       "      <td>06/01/2018 08:00:00 AM</td>\n",
       "      <td>2018</td>\n",
       "      <td>09/25/2018 04:14:11 PM</td>\n",
       "    </tr>\n",
       "    <tr>\n",
       "      <th>6706434</th>\n",
       "      <td>09/01/2018 12:01:00 AM</td>\n",
       "      <td>2018</td>\n",
       "      <td>09/25/2018 04:14:11 PM</td>\n",
       "    </tr>\n",
       "    <tr>\n",
       "      <th>6706435</th>\n",
       "      <td>01/01/2010 12:01:00 AM</td>\n",
       "      <td>2010</td>\n",
       "      <td>09/25/2018 04:14:11 PM</td>\n",
       "    </tr>\n",
       "    <tr>\n",
       "      <th>6706436</th>\n",
       "      <td>06/01/2017 12:01:00 AM</td>\n",
       "      <td>2017</td>\n",
       "      <td>09/25/2018 04:14:11 PM</td>\n",
       "    </tr>\n",
       "    <tr>\n",
       "      <th>6706437</th>\n",
       "      <td>01/01/2015 08:00:00 AM</td>\n",
       "      <td>2015</td>\n",
       "      <td>09/25/2018 04:14:11 PM</td>\n",
       "    </tr>\n",
       "    <tr>\n",
       "      <th>6706438</th>\n",
       "      <td>09/10/2018 07:00:00 PM</td>\n",
       "      <td>2018</td>\n",
       "      <td>09/25/2018 04:14:11 PM</td>\n",
       "    </tr>\n",
       "    <tr>\n",
       "      <th>6706439</th>\n",
       "      <td>09/18/2018 03:00:00 AM</td>\n",
       "      <td>2018</td>\n",
       "      <td>09/25/2018 04:14:11 PM</td>\n",
       "    </tr>\n",
       "    <tr>\n",
       "      <th>6706440</th>\n",
       "      <td>01/11/2017 02:34:00 AM</td>\n",
       "      <td>2017</td>\n",
       "      <td>09/25/2018 04:14:11 PM</td>\n",
       "    </tr>\n",
       "    <tr>\n",
       "      <th>6706441</th>\n",
       "      <td>09/15/2018 12:20:00 AM</td>\n",
       "      <td>2018</td>\n",
       "      <td>09/25/2018 04:14:11 PM</td>\n",
       "    </tr>\n",
       "    <tr>\n",
       "      <th>6706442</th>\n",
       "      <td>09/09/2018 12:00:00 AM</td>\n",
       "      <td>2018</td>\n",
       "      <td>09/25/2018 04:14:11 PM</td>\n",
       "    </tr>\n",
       "    <tr>\n",
       "      <th>6706443</th>\n",
       "      <td>09/16/2018 02:00:00 AM</td>\n",
       "      <td>2018</td>\n",
       "      <td>09/25/2018 04:14:11 PM</td>\n",
       "    </tr>\n",
       "    <tr>\n",
       "      <th>6706444</th>\n",
       "      <td>07/01/2018 12:00:00 AM</td>\n",
       "      <td>2018</td>\n",
       "      <td>09/25/2018 04:14:11 PM</td>\n",
       "    </tr>\n",
       "    <tr>\n",
       "      <th>6706445</th>\n",
       "      <td>09/04/2018 10:00:00 AM</td>\n",
       "      <td>2018</td>\n",
       "      <td>09/25/2018 04:14:11 PM</td>\n",
       "    </tr>\n",
       "    <tr>\n",
       "      <th>6706446</th>\n",
       "      <td>06/01/2018 08:00:00 AM</td>\n",
       "      <td>2018</td>\n",
       "      <td>09/25/2018 04:14:11 PM</td>\n",
       "    </tr>\n",
       "    <tr>\n",
       "      <th>6706447</th>\n",
       "      <td>07/27/2018 12:00:00 PM</td>\n",
       "      <td>2018</td>\n",
       "      <td>09/25/2018 04:14:11 PM</td>\n",
       "    </tr>\n",
       "    <tr>\n",
       "      <th>6706448</th>\n",
       "      <td>10/30/2012 09:00:00 AM</td>\n",
       "      <td>2012</td>\n",
       "      <td>09/25/2018 04:14:11 PM</td>\n",
       "    </tr>\n",
       "    <tr>\n",
       "      <th>6706449</th>\n",
       "      <td>09/08/2018 12:00:00 PM</td>\n",
       "      <td>2018</td>\n",
       "      <td>09/25/2018 04:14:11 PM</td>\n",
       "    </tr>\n",
       "    <tr>\n",
       "      <th>6706450</th>\n",
       "      <td>09/18/2018 03:00:00 PM</td>\n",
       "      <td>2018</td>\n",
       "      <td>09/25/2018 04:14:11 PM</td>\n",
       "    </tr>\n",
       "    <tr>\n",
       "      <th>6706451</th>\n",
       "      <td>07/27/2018 12:00:00 PM</td>\n",
       "      <td>2018</td>\n",
       "      <td>09/25/2018 04:14:11 PM</td>\n",
       "    </tr>\n",
       "    <tr>\n",
       "      <th>6706452</th>\n",
       "      <td>04/12/2018 04:00:00 PM</td>\n",
       "      <td>2018</td>\n",
       "      <td>09/25/2018 04:14:11 PM</td>\n",
       "    </tr>\n",
       "    <tr>\n",
       "      <th>6706453</th>\n",
       "      <td>09/08/2018 09:48:00 AM</td>\n",
       "      <td>2018</td>\n",
       "      <td>09/25/2018 04:14:11 PM</td>\n",
       "    </tr>\n",
       "    <tr>\n",
       "      <th>6706454</th>\n",
       "      <td>09/13/2018 11:00:00 AM</td>\n",
       "      <td>2018</td>\n",
       "      <td>09/25/2018 04:14:11 PM</td>\n",
       "    </tr>\n",
       "    <tr>\n",
       "      <th>6706455</th>\n",
       "      <td>09/18/2018 12:36:00 AM</td>\n",
       "      <td>2018</td>\n",
       "      <td>09/25/2018 04:14:11 PM</td>\n",
       "    </tr>\n",
       "    <tr>\n",
       "      <th>6706456</th>\n",
       "      <td>09/18/2018 10:13:00 PM</td>\n",
       "      <td>2018</td>\n",
       "      <td>09/25/2018 04:14:11 PM</td>\n",
       "    </tr>\n",
       "    <tr>\n",
       "      <th>6706457</th>\n",
       "      <td>09/18/2018 07:34:00 PM</td>\n",
       "      <td>2018</td>\n",
       "      <td>09/25/2018 04:14:11 PM</td>\n",
       "    </tr>\n",
       "    <tr>\n",
       "      <th>6706458</th>\n",
       "      <td>05/20/2016 01:52:00 AM</td>\n",
       "      <td>2016</td>\n",
       "      <td>09/25/2018 04:14:11 PM</td>\n",
       "    </tr>\n",
       "  </tbody>\n",
       "</table>\n",
       "<p>6706459 rows × 3 columns</p>\n",
       "</div>"
      ],
      "text/plain": [
       "                           Date  Year              Updated On\n",
       "0        03/18/2015 07:44:00 PM  2015  02/10/2018 03:50:01 PM\n",
       "1        03/18/2015 11:00:00 PM  2015  02/10/2018 03:50:01 PM\n",
       "2        03/18/2015 10:45:00 PM  2015  02/10/2018 03:50:01 PM\n",
       "3        03/18/2015 10:30:00 PM  2015  02/10/2018 03:50:01 PM\n",
       "4        03/18/2015 09:00:00 PM  2015  02/10/2018 03:50:01 PM\n",
       "5        03/18/2015 10:00:00 PM  2015  02/10/2018 03:50:01 PM\n",
       "6        03/18/2015 11:00:00 PM  2015  02/10/2018 03:50:01 PM\n",
       "7        03/18/2015 09:35:00 PM  2015  02/10/2018 03:50:01 PM\n",
       "8        03/18/2015 10:09:00 PM  2015  02/10/2018 03:50:01 PM\n",
       "9        03/18/2015 09:25:00 PM  2015  02/10/2018 03:50:01 PM\n",
       "10       03/18/2015 09:30:00 PM  2015  02/10/2018 03:50:01 PM\n",
       "11       03/15/2015 04:10:00 PM  2015  02/10/2018 03:50:01 PM\n",
       "12       03/18/2015 09:14:00 PM  2015  02/10/2018 03:50:01 PM\n",
       "13       03/18/2015 10:50:00 PM  2015  02/10/2018 03:50:01 PM\n",
       "14       03/18/2015 10:31:00 PM  2015  02/10/2018 03:50:01 PM\n",
       "15       03/18/2015 12:55:00 PM  2015  02/10/2018 03:50:01 PM\n",
       "16       03/18/2015 08:00:00 PM  2015  02/10/2018 03:50:01 PM\n",
       "17       03/18/2015 09:00:00 PM  2015  02/10/2018 03:50:01 PM\n",
       "18       03/18/2015 10:56:00 PM  2015  02/10/2018 03:50:01 PM\n",
       "19       03/18/2015 10:45:00 PM  2015  02/10/2018 03:50:01 PM\n",
       "20       03/18/2015 10:00:00 PM  2015  02/10/2018 03:50:01 PM\n",
       "21       09/01/2014 08:00:00 AM  2014  03/01/2018 03:52:35 PM\n",
       "22       03/18/2015 11:55:00 PM  2015  02/10/2018 03:50:01 PM\n",
       "23       03/18/2015 11:40:00 PM  2015  02/10/2018 03:50:01 PM\n",
       "24       03/18/2015 09:44:00 PM  2015  02/10/2018 03:50:01 PM\n",
       "25       03/18/2015 11:30:00 PM  2015  02/10/2018 03:50:01 PM\n",
       "26       03/18/2015 10:45:00 PM  2015  02/10/2018 03:50:01 PM\n",
       "27       03/18/2015 10:33:00 PM  2015  02/10/2018 03:50:01 PM\n",
       "28       03/19/2015 01:20:00 AM  2015  02/10/2018 03:50:01 PM\n",
       "29       03/18/2015 09:59:00 PM  2015  02/10/2018 03:50:01 PM\n",
       "...                         ...   ...                     ...\n",
       "6706429  12/19/2016 12:00:00 PM  2016  09/25/2018 04:14:11 PM\n",
       "6706430  01/01/2018 12:01:00 AM  2018  09/25/2018 04:14:11 PM\n",
       "6706431  08/01/2018 12:01:00 AM  2018  09/25/2018 04:14:11 PM\n",
       "6706432  09/01/2016 12:01:00 AM  2016  09/25/2018 04:14:11 PM\n",
       "6706433  06/01/2018 08:00:00 AM  2018  09/25/2018 04:14:11 PM\n",
       "6706434  09/01/2018 12:01:00 AM  2018  09/25/2018 04:14:11 PM\n",
       "6706435  01/01/2010 12:01:00 AM  2010  09/25/2018 04:14:11 PM\n",
       "6706436  06/01/2017 12:01:00 AM  2017  09/25/2018 04:14:11 PM\n",
       "6706437  01/01/2015 08:00:00 AM  2015  09/25/2018 04:14:11 PM\n",
       "6706438  09/10/2018 07:00:00 PM  2018  09/25/2018 04:14:11 PM\n",
       "6706439  09/18/2018 03:00:00 AM  2018  09/25/2018 04:14:11 PM\n",
       "6706440  01/11/2017 02:34:00 AM  2017  09/25/2018 04:14:11 PM\n",
       "6706441  09/15/2018 12:20:00 AM  2018  09/25/2018 04:14:11 PM\n",
       "6706442  09/09/2018 12:00:00 AM  2018  09/25/2018 04:14:11 PM\n",
       "6706443  09/16/2018 02:00:00 AM  2018  09/25/2018 04:14:11 PM\n",
       "6706444  07/01/2018 12:00:00 AM  2018  09/25/2018 04:14:11 PM\n",
       "6706445  09/04/2018 10:00:00 AM  2018  09/25/2018 04:14:11 PM\n",
       "6706446  06/01/2018 08:00:00 AM  2018  09/25/2018 04:14:11 PM\n",
       "6706447  07/27/2018 12:00:00 PM  2018  09/25/2018 04:14:11 PM\n",
       "6706448  10/30/2012 09:00:00 AM  2012  09/25/2018 04:14:11 PM\n",
       "6706449  09/08/2018 12:00:00 PM  2018  09/25/2018 04:14:11 PM\n",
       "6706450  09/18/2018 03:00:00 PM  2018  09/25/2018 04:14:11 PM\n",
       "6706451  07/27/2018 12:00:00 PM  2018  09/25/2018 04:14:11 PM\n",
       "6706452  04/12/2018 04:00:00 PM  2018  09/25/2018 04:14:11 PM\n",
       "6706453  09/08/2018 09:48:00 AM  2018  09/25/2018 04:14:11 PM\n",
       "6706454  09/13/2018 11:00:00 AM  2018  09/25/2018 04:14:11 PM\n",
       "6706455  09/18/2018 12:36:00 AM  2018  09/25/2018 04:14:11 PM\n",
       "6706456  09/18/2018 10:13:00 PM  2018  09/25/2018 04:14:11 PM\n",
       "6706457  09/18/2018 07:34:00 PM  2018  09/25/2018 04:14:11 PM\n",
       "6706458  05/20/2016 01:52:00 AM  2016  09/25/2018 04:14:11 PM\n",
       "\n",
       "[6706459 rows x 3 columns]"
      ]
     },
     "execution_count": 74,
     "metadata": {},
     "output_type": "execute_result"
    }
   ],
   "source": [
    "df[['Date','Year','Updated On']]"
   ]
  },
  {
   "cell_type": "code",
   "execution_count": 75,
   "metadata": {},
   "outputs": [],
   "source": [
    "#droping duplicate rows\n",
    "df.drop_duplicates(subset=['ID', 'Case Number'], inplace=True)"
   ]
  },
  {
   "cell_type": "code",
   "execution_count": 77,
   "metadata": {},
   "outputs": [],
   "source": [
    "#droping irrelevant columns with my goal\n",
    "df.drop(['Case Number','IUCR','FBI Code','Location',\n",
    "                 'X Coordinate','Y Coordinate'], inplace = True, axis = 1)"
   ]
  },
  {
   "cell_type": "code",
   "execution_count": 78,
   "metadata": {},
   "outputs": [
    {
     "data": {
      "text/plain": [
       "Index(['ID', 'Date', 'Block', 'Primary Type', 'Description',\n",
       "       'Location Description', 'Arrest', 'Domestic', 'Beat', 'District',\n",
       "       'Ward', 'Community Area', 'Year', 'Updated On', 'Latitude',\n",
       "       'Longitude'],\n",
       "      dtype='object')"
      ]
     },
     "execution_count": 78,
     "metadata": {},
     "output_type": "execute_result"
    }
   ],
   "source": [
    "df.columns"
   ]
  },
  {
   "cell_type": "code",
   "execution_count": 84,
   "metadata": {},
   "outputs": [],
   "source": [
    "#converting Date, Updated on cols into index, to datetime format \n",
    "df.Date = pd.to_datetime(df.Date, format = '%m/%d/%Y %I:%M:%S %p')\n",
    "df['Updated On'] = pd.to_datetime(df['Updated On'], format = '%m/%d/%Y %I:%M:%S %p')\n",
    "df.index = pd.DatetimeIndex(df.Date)"
   ]
  },
  {
   "cell_type": "code",
   "execution_count": 86,
   "metadata": {},
   "outputs": [
    {
     "data": {
      "text/plain": [
       "THEFT                                1407902\n",
       "BATTERY                              1224757\n",
       "CRIMINAL DAMAGE                       767307\n",
       "NARCOTICS                             708820\n",
       "OTHER OFFENSE                         416039\n",
       "ASSAULT                               415416\n",
       "BURGLARY                              386216\n",
       "MOTOR VEHICLE THEFT                   312716\n",
       "DECEPTIVE PRACTICE                    259442\n",
       "ROBBERY                               254159\n",
       "CRIMINAL TRESPASS                     192346\n",
       "WEAPONS VIOLATION                      69888\n",
       "PROSTITUTION                           68211\n",
       "PUBLIC PEACE VIOLATION                 47583\n",
       "OFFENSE INVOLVING CHILDREN             44942\n",
       "CRIM SEXUAL ASSAULT                    26788\n",
       "SEX OFFENSE                            24868\n",
       "INTERFERENCE WITH PUBLIC OFFICER       14964\n",
       "GAMBLING                               14397\n",
       "LIQUOR LAW VIOLATION                   14013\n",
       "ARSON                                  11088\n",
       "HOMICIDE                                9326\n",
       "KIDNAPPING                              6644\n",
       "INTIMIDATION                            3901\n",
       "STALKING                                3344\n",
       "OBSCENITY                                571\n",
       "CONCEALED CARRY LICENSE VIOLATION        255\n",
       "PUBLIC INDECENCY                         160\n",
       "NON-CRIMINAL                             157\n",
       "OTHER NARCOTIC VIOLATION                 123\n",
       "HUMAN TRAFFICKING                         45\n",
       "NON - CRIMINAL                            38\n",
       "RITUALISM                                 23\n",
       "NON-CRIMINAL (SUBJECT SPECIFIED)           9\n",
       "DOMESTIC VIOLENCE                          1\n",
       "Name: Primary Type, dtype: int64"
      ]
     },
     "execution_count": 86,
     "metadata": {},
     "output_type": "execute_result"
    }
   ],
   "source": [
    "df['Primary Type'].value_counts()"
   ]
  },
  {
   "cell_type": "code",
   "execution_count": 87,
   "metadata": {},
   "outputs": [
    {
     "data": {
      "text/plain": [
       "ID                               int64\n",
       "Date                    datetime64[ns]\n",
       "Block                           object\n",
       "Primary Type                    object\n",
       "Description                     object\n",
       "Location Description            object\n",
       "Arrest                            bool\n",
       "Domestic                          bool\n",
       "Beat                             int64\n",
       "District                       float64\n",
       "Ward                           float64\n",
       "Community Area                 float64\n",
       "Year                             int64\n",
       "Updated On              datetime64[ns]\n",
       "Latitude                       float64\n",
       "Longitude                      float64\n",
       "dtype: object"
      ]
     },
     "execution_count": 87,
     "metadata": {},
     "output_type": "execute_result"
    }
   ],
   "source": [
    "df.dtypes"
   ]
  },
  {
   "cell_type": "code",
   "execution_count": 88,
   "metadata": {},
   "outputs": [],
   "source": [
    "groups = df.groupby(df['Primary Type'])\n",
    "groups = dict(list(groups))\n"
   ]
  },
  {
   "cell_type": "code",
   "execution_count": 90,
   "metadata": {},
   "outputs": [
    {
     "data": {
      "text/plain": [
       "Index(['ID', 'Date', 'Block', 'Primary Type', 'Description',\n",
       "       'Location Description', 'Arrest', 'Domestic', 'Beat', 'District',\n",
       "       'Ward', 'Community Area', 'Year', 'Updated On', 'Latitude',\n",
       "       'Longitude'],\n",
       "      dtype='object')"
      ]
     },
     "execution_count": 90,
     "metadata": {},
     "output_type": "execute_result"
    }
   ],
   "source": [
    "df.columns"
   ]
  },
  {
   "cell_type": "code",
   "execution_count": 91,
   "metadata": {},
   "outputs": [
    {
     "data": {
      "text/plain": [
       "6706459"
      ]
     },
     "execution_count": 91,
     "metadata": {},
     "output_type": "execute_result"
    }
   ],
   "source": [
    "df['Primary Type'].count()# rows of the variable"
   ]
  },
  {
   "cell_type": "code",
   "execution_count": 95,
   "metadata": {},
   "outputs": [
    {
     "data": {
      "text/plain": [
       "False    4843248\n",
       "True     1863211\n",
       "Name: Arrest, dtype: int64"
      ]
     },
     "execution_count": 95,
     "metadata": {},
     "output_type": "execute_result"
    }
   ],
   "source": [
    "df['Arrest'].value_counts()"
   ]
  },
  {
   "cell_type": "code",
   "execution_count": 96,
   "metadata": {},
   "outputs": [
    {
     "data": {
      "text/plain": [
       "THEFT                                1407902\n",
       "BATTERY                              1224757\n",
       "CRIMINAL DAMAGE                       767307\n",
       "NARCOTICS                             708820\n",
       "OTHER OFFENSE                         416039\n",
       "ASSAULT                               415416\n",
       "BURGLARY                              386216\n",
       "MOTOR VEHICLE THEFT                   312716\n",
       "DECEPTIVE PRACTICE                    259442\n",
       "ROBBERY                               254159\n",
       "CRIMINAL TRESPASS                     192346\n",
       "WEAPONS VIOLATION                      69888\n",
       "PROSTITUTION                           68211\n",
       "PUBLIC PEACE VIOLATION                 47583\n",
       "OFFENSE INVOLVING CHILDREN             44942\n",
       "CRIM SEXUAL ASSAULT                    26788\n",
       "SEX OFFENSE                            24868\n",
       "INTERFERENCE WITH PUBLIC OFFICER       14964\n",
       "GAMBLING                               14397\n",
       "LIQUOR LAW VIOLATION                   14013\n",
       "ARSON                                  11088\n",
       "HOMICIDE                                9326\n",
       "KIDNAPPING                              6644\n",
       "INTIMIDATION                            3901\n",
       "STALKING                                3344\n",
       "OBSCENITY                                571\n",
       "CONCEALED CARRY LICENSE VIOLATION        255\n",
       "PUBLIC INDECENCY                         160\n",
       "NON-CRIMINAL                             157\n",
       "OTHER NARCOTIC VIOLATION                 123\n",
       "HUMAN TRAFFICKING                         45\n",
       "NON - CRIMINAL                            38\n",
       "RITUALISM                                 23\n",
       "NON-CRIMINAL (SUBJECT SPECIFIED)           9\n",
       "DOMESTIC VIOLENCE                          1\n",
       "Name: Primary Type, dtype: int64"
      ]
     },
     "execution_count": 96,
     "metadata": {},
     "output_type": "execute_result"
    }
   ],
   "source": [
    "df['Primary Type'].value_counts()"
   ]
  },
  {
   "cell_type": "code",
   "execution_count": 97,
   "metadata": {},
   "outputs": [
    {
     "data": {
      "text/plain": [
       "(6706459, 16)"
      ]
     },
     "execution_count": 97,
     "metadata": {},
     "output_type": "execute_result"
    }
   ],
   "source": [
    "df.shape"
   ]
  },
  {
   "cell_type": "code",
   "execution_count": 98,
   "metadata": {},
   "outputs": [
    {
     "data": {
      "text/plain": [
       "ID                           0\n",
       "Date                         0\n",
       "Block                        0\n",
       "Primary Type                 0\n",
       "Description                  0\n",
       "Location Description      3882\n",
       "Arrest                       0\n",
       "Domestic                     0\n",
       "Beat                         0\n",
       "District                    47\n",
       "Ward                    614853\n",
       "Community Area          616028\n",
       "Year                         0\n",
       "Updated On                   0\n",
       "Latitude                 59963\n",
       "Longitude                59963\n",
       "dtype: int64"
      ]
     },
     "execution_count": 98,
     "metadata": {},
     "output_type": "execute_result"
    }
   ],
   "source": [
    "df.isnull().sum()"
   ]
  },
  {
   "cell_type": "code",
   "execution_count": 102,
   "metadata": {},
   "outputs": [
    {
     "data": {
      "text/plain": [
       "28.0    277936\n",
       "42.0    243431\n",
       "24.0    239117\n",
       "2.0     236355\n",
       "27.0    220249\n",
       "17.0    203386\n",
       "20.0    201655\n",
       "6.0     196475\n",
       "3.0     186805\n",
       "21.0    183577\n",
       "16.0    175074\n",
       "34.0    172024\n",
       "15.0    169910\n",
       "8.0     163307\n",
       "37.0    163291\n",
       "7.0     161878\n",
       "9.0     153372\n",
       "5.0     145275\n",
       "29.0    141079\n",
       "1.0     118096\n",
       "4.0     112502\n",
       "32.0    104915\n",
       "26.0    104895\n",
       "10.0    104637\n",
       "18.0    102873\n",
       "30.0     85954\n",
       "49.0     85714\n",
       "31.0     85688\n",
       "11.0     83954\n",
       "44.0     83578\n",
       "14.0     83565\n",
       "25.0     83181\n",
       "46.0     81521\n",
       "35.0     81505\n",
       "23.0     80070\n",
       "13.0     78156\n",
       "43.0     77535\n",
       "12.0     74096\n",
       "22.0     70109\n",
       "38.0     65493\n",
       "47.0     63318\n",
       "36.0     63287\n",
       "41.0     63182\n",
       "40.0     63084\n",
       "50.0     62094\n",
       "45.0     61833\n",
       "33.0     60788\n",
       "48.0     60359\n",
       "39.0     57084\n",
       "19.0     54344\n",
       "Name: Ward, dtype: int64"
      ]
     },
     "execution_count": 102,
     "metadata": {},
     "output_type": "execute_result"
    }
   ],
   "source": [
    "df['Ward'].value_counts()"
   ]
  },
  {
   "cell_type": "code",
   "execution_count": null,
   "metadata": {},
   "outputs": [],
   "source": []
  },
  {
   "cell_type": "code",
   "execution_count": null,
   "metadata": {},
   "outputs": [],
   "source": []
  },
  {
   "cell_type": "code",
   "execution_count": null,
   "metadata": {},
   "outputs": [],
   "source": []
  },
  {
   "cell_type": "code",
   "execution_count": null,
   "metadata": {},
   "outputs": [],
   "source": []
  }
 ],
 "metadata": {
  "kernelspec": {
   "display_name": "Python 3",
   "language": "python",
   "name": "python3"
  },
  "language_info": {
   "codemirror_mode": {
    "name": "ipython",
    "version": 3
   },
   "file_extension": ".py",
   "mimetype": "text/x-python",
   "name": "python",
   "nbconvert_exporter": "python",
   "pygments_lexer": "ipython3",
   "version": "3.6.4"
  }
 },
 "nbformat": 4,
 "nbformat_minor": 2
}
